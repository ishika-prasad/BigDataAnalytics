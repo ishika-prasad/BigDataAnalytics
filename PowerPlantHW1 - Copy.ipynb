{
 "cells": [
  {
   "cell_type": "code",
   "execution_count": 66,
   "metadata": {},
   "outputs": [],
   "source": [
    "import pandas as pd\n",
    "from pandas import ExcelWriter\n",
    "from pandas import ExcelFile\n",
    "from matplotlib import pyplot as plt"
   ]
  },
  {
   "cell_type": "code",
   "execution_count": 67,
   "metadata": {},
   "outputs": [],
   "source": [
    "df = pd.read_excel('powerplant.xlsx', sheet_name='Sheet1')"
   ]
  },
  {
   "cell_type": "code",
   "execution_count": 68,
   "metadata": {},
   "outputs": [
    {
     "name": "stdout",
     "output_type": "stream",
     "text": [
      "   Unnamed: 0  Plant 1  Plant 2\n",
      "0     month 1     18.4     20.1\n",
      "1     month 2     15.7     21.1\n",
      "2     month 3     11.9     26.4\n",
      "3     month 4     23.6     16.5\n",
      "4     month 5     13.8     28.9\n",
      "5     month 6     20.9     28.1\n",
      "6     month 7     14.0     25.7\n",
      "7     month 8     15.8     30.9\n",
      "8     month 9     19.6     24.2\n",
      "9    month 10     13.3     21.5\n",
      "10   month 11     14.7     22.5\n",
      "11   month 12     16.0     19.4\n",
      "12   month 13     14.6     21.5\n",
      "13   month 14     16.2     23.4\n"
     ]
    }
   ],
   "source": [
    "print(df)"
   ]
  },
  {
   "cell_type": "code",
   "execution_count": 69,
   "metadata": {},
   "outputs": [
    {
     "name": "stdout",
     "output_type": "stream",
     "text": [
      "0     18.4\n",
      "1     15.7\n",
      "2     11.9\n",
      "3     23.6\n",
      "4     13.8\n",
      "5     20.9\n",
      "6     14.0\n",
      "7     15.8\n",
      "8     19.6\n",
      "9     13.3\n",
      "10    14.7\n",
      "11    16.0\n",
      "12    14.6\n",
      "13    16.2\n",
      "Name: Plant 1, dtype: float64\n"
     ]
    }
   ],
   "source": [
    "print(df['Plant 1'])"
   ]
  },
  {
   "cell_type": "code",
   "execution_count": 70,
   "metadata": {},
   "outputs": [
    {
     "name": "stdout",
     "output_type": "stream",
     "text": [
      "0     20.1\n",
      "1     21.1\n",
      "2     26.4\n",
      "3     16.5\n",
      "4     28.9\n",
      "5     28.1\n",
      "6     25.7\n",
      "7     30.9\n",
      "8     24.2\n",
      "9     21.5\n",
      "10    22.5\n",
      "11    19.4\n",
      "12    21.5\n",
      "13    23.4\n",
      "Name: Plant 2, dtype: float64\n"
     ]
    }
   ],
   "source": [
    "print(df['Plant 2']) "
   ]
  },
  {
   "cell_type": "code",
   "execution_count": 71,
   "metadata": {},
   "outputs": [
    {
     "name": "stdout",
     "output_type": "stream",
     "text": [
      "Sum of plant 1 = 228.49999999999997\n"
     ]
    }
   ],
   "source": [
    "sum_plant1 = df['Plant 1'].sum()\n",
    "print('Sum of plant 1 =', sum_plant1)"
   ]
  },
  {
   "cell_type": "code",
   "execution_count": 72,
   "metadata": {},
   "outputs": [
    {
     "name": "stdout",
     "output_type": "stream",
     "text": [
      "Sum of plant 2 = 330.19999999999993\n"
     ]
    }
   ],
   "source": [
    "sum_plant2 = df['Plant 2'].sum()\n",
    "print('Sum of plant 2 =', sum_plant2)"
   ]
  },
  {
   "cell_type": "code",
   "execution_count": 73,
   "metadata": {},
   "outputs": [
    {
     "name": "stdout",
     "output_type": "stream",
     "text": [
      "Mean of plant 1 = 16.32142857142857\n"
     ]
    }
   ],
   "source": [
    "mean_plant1 = df['Plant 1'].mean()\n",
    "print('Mean of plant 1 =', mean_plant1)"
   ]
  },
  {
   "cell_type": "code",
   "execution_count": 74,
   "metadata": {},
   "outputs": [
    {
     "name": "stdout",
     "output_type": "stream",
     "text": [
      "Mean of plant 2 = 23.585714285714282\n"
     ]
    }
   ],
   "source": [
    "mean_plant2 = df['Plant 2'].mean()\n",
    "print('Mean of plant 2 =', mean_plant2)"
   ]
  },
  {
   "cell_type": "code",
   "execution_count": 75,
   "metadata": {},
   "outputs": [
    {
     "name": "stdout",
     "output_type": "stream",
     "text": [
      "Median of plant 1 = 15.75\n"
     ]
    }
   ],
   "source": [
    "median_plant1 = df['Plant 1'].median()\n",
    "print('Median of plant 1 =', median_plant1)"
   ]
  },
  {
   "cell_type": "code",
   "execution_count": 76,
   "metadata": {},
   "outputs": [
    {
     "name": "stdout",
     "output_type": "stream",
     "text": [
      "Median of plant 2 = 22.95\n"
     ]
    }
   ],
   "source": [
    "median_plant2 = df['Plant 2'].median()\n",
    "print('Median of plant 2 =', median_plant2)"
   ]
  },
  {
   "cell_type": "code",
   "execution_count": 77,
   "metadata": {},
   "outputs": [
    {
     "name": "stdout",
     "output_type": "stream",
     "text": [
      "Mode of plant 1 =\n",
      " 0     11.9\n",
      "1     13.3\n",
      "2     13.8\n",
      "3     14.0\n",
      "4     14.6\n",
      "5     14.7\n",
      "6     15.7\n",
      "7     15.8\n",
      "8     16.0\n",
      "9     16.2\n",
      "10    18.4\n",
      "11    19.6\n",
      "12    20.9\n",
      "13    23.6\n",
      "dtype: float64\n"
     ]
    }
   ],
   "source": [
    "mode_plant1 = df['Plant 1'].mode()\n",
    "print('Mode of plant 1 =\\n', mode_plant1)"
   ]
  },
  {
   "cell_type": "code",
   "execution_count": 78,
   "metadata": {},
   "outputs": [
    {
     "name": "stdout",
     "output_type": "stream",
     "text": [
      "Mode of plant 2 =\n",
      " 0    21.5\n",
      "dtype: float64\n"
     ]
    }
   ],
   "source": [
    "mode_plant2 = df['Plant 2'].mode()\n",
    "print('Mode of plant 2 =\\n', mode_plant2)"
   ]
  },
  {
   "cell_type": "code",
   "execution_count": 79,
   "metadata": {},
   "outputs": [
    {
     "name": "stdout",
     "output_type": "stream",
     "text": [
      "Standard deviation of plant 1 = 3.2320935276425056\n"
     ]
    }
   ],
   "source": [
    "std_plant1 = df['Plant 1'].std()\n",
    "print('Standard deviation of plant 1 =', std_plant1)"
   ]
  },
  {
   "cell_type": "code",
   "execution_count": 80,
   "metadata": {},
   "outputs": [
    {
     "name": "stdout",
     "output_type": "stream",
     "text": [
      "Standard deviation of plant 2 = 4.02737882744847\n"
     ]
    }
   ],
   "source": [
    "std_plant2 = df['Plant 2'].std()\n",
    "print('Standard deviation of plant 2 =', std_plant2)"
   ]
  },
  {
   "cell_type": "code",
   "execution_count": 95,
   "metadata": {},
   "outputs": [
    {
     "data": {
      "image/png": "[encoded data removed]",
      "text/plain": [
       "<Figure size 432x288 with 1 Axes>"
      ]
     },
     "metadata": {
      "needs_background": "light"
     },
     "output_type": "display_data"
    }
   ],
   "source": [
    "data = [[sum_plant1, sum_plant2]]\n",
    "df = pd.DataFrame(data, columns = ['Plant1', 'Plant2'])\n",
    "df[['Plant1', 'Plant2']].plot(kind = 'bar')\n",
    "plt.show()"
   ]
  },
  {
   "cell_type": "code",
   "execution_count": 96,
   "metadata": {},
   "outputs": [
    {
     "data": {
      "image/png": "[encoded data removed]",
      "text/plain": [
       "<Figure size 432x288 with 1 Axes>"
      ]
     },
     "metadata": {
      "needs_background": "light"
     },
     "output_type": "display_data"
    }
   ],
   "source": [
    "data = [[mean_plant1, mean_plant2]]\n",
    "df = pd.DataFrame(data, columns = ['Plant1', 'Plant2'])\n",
    "df[['Plant1', 'Plant2']].plot(kind = 'bar')\n",
    "plt.show()"
   ]
  },
  {
   "cell_type": "code",
   "execution_count": 97,
   "metadata": {},
   "outputs": [
    {
     "data": {
      "image/png": "[encoded data removed]",
      "text/plain": [
       "<Figure size 432x288 with 1 Axes>"
      ]
     },
     "metadata": {
      "needs_background": "light"
     },
     "output_type": "display_data"
    }
   ],
   "source": [
    "data = [[median_plant1, median_plant2]]\n",
    "df = pd.DataFrame(data, columns = ['Plant1', 'Plant2'])\n",
    "df[['Plant1', 'Plant2']].plot(kind = 'bar')\n",
    "plt.show()"
   ]
  },
  {
   "cell_type": "code",
   "execution_count": 100,
   "metadata": {},
   "outputs": [
    {
     "data": {
      "image/png": "[encoded data removed]",
      "text/plain": [
       "<Figure size 432x288 with 1 Axes>"
      ]
     },
     "metadata": {
      "needs_background": "light"
     },
     "output_type": "display_data"
    }
   ],
   "source": [
    "data = [[std_plant1, std_plant2]]\n",
    "df = pd.DataFrame(data, columns = ['Plant1', 'Plant2'])\n",
    "df[['Plant1', 'Plant2']].plot(kind = 'bar')\n",
    "plt.show()"
   ]
  }
 ],
 "metadata": {
  "kernelspec": {
   "display_name": "Python 3",
   "language": "python",
   "name": "python3"
  },
  "language_info": {
   "codemirror_mode": {
    "name": "ipython",
    "version": 3
   },
   "file_extension": ".py",
   "mimetype": "text/x-python",
   "name": "python",
   "nbconvert_exporter": "python",
   "pygments_lexer": "ipython3",
   "version": "3.7.3"
  }
 },
 "nbformat": 4,
 "nbformat_minor": 2
}
